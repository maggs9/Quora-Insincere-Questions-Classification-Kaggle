{
 "cells": [
  {
   "cell_type": "code",
   "execution_count": 1,
   "metadata": {},
   "outputs": [],
   "source": [
    "## Load Embeddings\n",
    "## 1. Glove\n",
    "import pandas as pd\n",
    "from gensim.scripts.glove2word2vec import glove2word2vec\n",
    "from gensim.test.utils import datapath, get_tmpfile\n",
    "from gensim.models import KeyedVectors\n"
   ]
  },
  {
   "cell_type": "code",
   "execution_count": 2,
   "metadata": {},
   "outputs": [
    {
     "name": "stderr",
     "output_type": "stream",
     "text": [
      "Using TensorFlow backend.\n",
      "/Users/meghana.negi/.local/share/virtualenvs/Quora-Insincere-Questions-Classification-K-VOuQS9ZU/lib/python3.7/importlib/_bootstrap.py:219: RuntimeWarning: compiletime version 3.6 of module 'tensorflow.python.framework.fast_tensor_util' does not match runtime version 3.7\n",
      "  return f(*args, **kwds)\n"
     ]
    }
   ],
   "source": [
    "## Keras import\n",
    "from keras.models import Sequential\n",
    "from keras.layers import LSTM, Dense, Bidirectional, Activation\n",
    "from keras.preprocessing.text import Tokenizer, text_to_word_sequence\n",
    "from keras.preprocessing.sequence import pad_sequences"
   ]
  },
  {
   "cell_type": "code",
   "execution_count": 3,
   "metadata": {},
   "outputs": [],
   "source": [
    "def loadEmbeddings(name):\n",
    "    if name == \"glove\":\n",
    "        glove_file = datapath('./embedding/glove.840B.300d.txt')\n",
    "        tmp_file = get_tmpfile(\"./embedding/glove_word2vec.txt\")\n",
    "        glove2word2vec(glove_file, tmp_file)\n",
    "        model = KeyedVectors.load_word2vec_format(tmp_file)\n",
    "        return model\n",
    "\n",
    "    if name == \"google\":\n",
    "        model = KeyedVectors.load_word2vec_format('./embedding/GoogleNews-vectors-negative300.bin', binary=True)\n",
    "        vocab = model.vocab.keys()\n",
    "        print('Found %s word vectors.' % len(vocab))\n",
    "        return model\n",
    "        \n",
    "    if name == \"paragram\":\n",
    "        print(\"paragram\")\n",
    "        \n",
    "    if name == \"wiki\":\n",
    "        print(\"wiki\")\n"
   ]
  },
  {
   "cell_type": "code",
   "execution_count": 4,
   "metadata": {},
   "outputs": [
    {
     "name": "stdout",
     "output_type": "stream",
     "text": [
      "Found 3000000 word vectors.\n"
     ]
    }
   ],
   "source": [
    "## Load Embeddings\n",
    "google_vec = loadEmbeddings(\"google\")\n",
    "#tmp = loadEmbeddings(\"glove\")"
   ]
  },
  {
   "cell_type": "code",
   "execution_count": 5,
   "metadata": {},
   "outputs": [
    {
     "data": {
      "text/html": [
       "<div>\n",
       "<style scoped>\n",
       "    .dataframe tbody tr th:only-of-type {\n",
       "        vertical-align: middle;\n",
       "    }\n",
       "\n",
       "    .dataframe tbody tr th {\n",
       "        vertical-align: top;\n",
       "    }\n",
       "\n",
       "    .dataframe thead th {\n",
       "        text-align: right;\n",
       "    }\n",
       "</style>\n",
       "<table border=\"1\" class=\"dataframe\">\n",
       "  <thead>\n",
       "    <tr style=\"text-align: right;\">\n",
       "      <th></th>\n",
       "      <th>qid</th>\n",
       "      <th>question_text</th>\n",
       "      <th>target</th>\n",
       "    </tr>\n",
       "  </thead>\n",
       "  <tbody>\n",
       "    <tr>\n",
       "      <th>0</th>\n",
       "      <td>00002165364db923c7e6</td>\n",
       "      <td>How did Quebec nationalists see their province...</td>\n",
       "      <td>0</td>\n",
       "    </tr>\n",
       "    <tr>\n",
       "      <th>1</th>\n",
       "      <td>000032939017120e6e44</td>\n",
       "      <td>Do you have an adopted dog, how would you enco...</td>\n",
       "      <td>0</td>\n",
       "    </tr>\n",
       "    <tr>\n",
       "      <th>2</th>\n",
       "      <td>0000412ca6e4628ce2cf</td>\n",
       "      <td>Why does velocity affect time? Does velocity a...</td>\n",
       "      <td>0</td>\n",
       "    </tr>\n",
       "    <tr>\n",
       "      <th>3</th>\n",
       "      <td>000042bf85aa498cd78e</td>\n",
       "      <td>How did Otto von Guericke used the Magdeburg h...</td>\n",
       "      <td>0</td>\n",
       "    </tr>\n",
       "    <tr>\n",
       "      <th>4</th>\n",
       "      <td>0000455dfa3e01eae3af</td>\n",
       "      <td>Can I convert montra helicon D to a mountain b...</td>\n",
       "      <td>0</td>\n",
       "    </tr>\n",
       "  </tbody>\n",
       "</table>\n",
       "</div>"
      ],
      "text/plain": [
       "                    qid                                      question_text  \\\n",
       "0  00002165364db923c7e6  How did Quebec nationalists see their province...   \n",
       "1  000032939017120e6e44  Do you have an adopted dog, how would you enco...   \n",
       "2  0000412ca6e4628ce2cf  Why does velocity affect time? Does velocity a...   \n",
       "3  000042bf85aa498cd78e  How did Otto von Guericke used the Magdeburg h...   \n",
       "4  0000455dfa3e01eae3af  Can I convert montra helicon D to a mountain b...   \n",
       "\n",
       "   target  \n",
       "0       0  \n",
       "1       0  \n",
       "2       0  \n",
       "3       0  \n",
       "4       0  "
      ]
     },
     "execution_count": 5,
     "metadata": {},
     "output_type": "execute_result"
    }
   ],
   "source": [
    "## Load data\n",
    "train = pd.read_csv(\"./data/train.csv\")\n",
    "test = pd.read_csv(\"./data/test.csv\")\n",
    "sub = pd.read_csv(\"./data/sample_submission.csv\")\n",
    "train.head()"
   ]
  },
  {
   "cell_type": "code",
   "execution_count": 6,
   "metadata": {},
   "outputs": [
    {
     "name": "stdout",
     "output_type": "stream",
     "text": [
      "Train Data:  1306122\n",
      "Test Data:  56370\n",
      "Train Data Positive Class:  80810\n",
      "Train Data Negative Class:  1225312\n",
      "% Split +ve class 6.187017751787352\n",
      "\n",
      "\n",
      "                    qid                                      question_text  \\\n",
      "0  00002165364db923c7e6  How did Quebec nationalists see their province...   \n",
      "1  000032939017120e6e44  Do you have an adopted dog, how would you enco...   \n",
      "2  0000412ca6e4628ce2cf  Why does velocity affect time? Does velocity a...   \n",
      "3  000042bf85aa498cd78e  How did Otto von Guericke used the Magdeburg h...   \n",
      "4  0000455dfa3e01eae3af  Can I convert montra helicon D to a mountain b...   \n",
      "5  00004f9a462a357c33be  Is Gaza slowly becoming Auschwitz, Dachau or T...   \n",
      "6  00005059a06ee19e11ad  Why does Quora automatically ban conservative ...   \n",
      "7  0000559f875832745e2e  Is it crazy if I wash or wipe my groceries off...   \n",
      "8  00005bd3426b2d0c8305  Is there such a thing as dressing moderately, ...   \n",
      "9  00006e6928c5df60eacb  Is it just me or have you ever been in this ph...   \n",
      "\n",
      "   target  \n",
      "0       0  \n",
      "1       0  \n",
      "2       0  \n",
      "3       0  \n",
      "4       0  \n",
      "5       0  \n",
      "6       0  \n",
      "7       0  \n",
      "8       0  \n",
      "9       0  \n"
     ]
    },
    {
     "data": {
      "text/html": [
       "<div>\n",
       "<style scoped>\n",
       "    .dataframe tbody tr th:only-of-type {\n",
       "        vertical-align: middle;\n",
       "    }\n",
       "\n",
       "    .dataframe tbody tr th {\n",
       "        vertical-align: top;\n",
       "    }\n",
       "\n",
       "    .dataframe thead th {\n",
       "        text-align: right;\n",
       "    }\n",
       "</style>\n",
       "<table border=\"1\" class=\"dataframe\">\n",
       "  <thead>\n",
       "    <tr style=\"text-align: right;\">\n",
       "      <th></th>\n",
       "      <th>qid</th>\n",
       "      <th>question_text</th>\n",
       "      <th>target</th>\n",
       "    </tr>\n",
       "  </thead>\n",
       "  <tbody>\n",
       "    <tr>\n",
       "      <th>22</th>\n",
       "      <td>0000e91571b60c2fb487</td>\n",
       "      <td>Has the United States become the largest dicta...</td>\n",
       "      <td>1</td>\n",
       "    </tr>\n",
       "    <tr>\n",
       "      <th>30</th>\n",
       "      <td>00013ceca3f624b09f42</td>\n",
       "      <td>Which babies are more sweeter to their parents...</td>\n",
       "      <td>1</td>\n",
       "    </tr>\n",
       "    <tr>\n",
       "      <th>110</th>\n",
       "      <td>0004a7fcb2bf73076489</td>\n",
       "      <td>If blacks support school choice and mandatory ...</td>\n",
       "      <td>1</td>\n",
       "    </tr>\n",
       "    <tr>\n",
       "      <th>114</th>\n",
       "      <td>00052793eaa287aff1e1</td>\n",
       "      <td>I am gay boy and I love my cousin (boy). He is...</td>\n",
       "      <td>1</td>\n",
       "    </tr>\n",
       "    <tr>\n",
       "      <th>115</th>\n",
       "      <td>000537213b01fd77b58a</td>\n",
       "      <td>Which races have the smallest penis?</td>\n",
       "      <td>1</td>\n",
       "    </tr>\n",
       "    <tr>\n",
       "      <th>119</th>\n",
       "      <td>00056d45a1ce63856fc6</td>\n",
       "      <td>Why do females find penises ugly?</td>\n",
       "      <td>1</td>\n",
       "    </tr>\n",
       "    <tr>\n",
       "      <th>127</th>\n",
       "      <td>0005de07b07a17046e27</td>\n",
       "      <td>How do I marry an American woman for a Green C...</td>\n",
       "      <td>1</td>\n",
       "    </tr>\n",
       "    <tr>\n",
       "      <th>144</th>\n",
       "      <td>00068875d7c82a5bcf88</td>\n",
       "      <td>Why do Europeans say they're the superior race...</td>\n",
       "      <td>1</td>\n",
       "    </tr>\n",
       "    <tr>\n",
       "      <th>156</th>\n",
       "      <td>0006ffd99a6599ff35b3</td>\n",
       "      <td>Did Julius Caesar bring a tyrannosaurus rex on...</td>\n",
       "      <td>1</td>\n",
       "    </tr>\n",
       "    <tr>\n",
       "      <th>167</th>\n",
       "      <td>00075f7061837807c69f</td>\n",
       "      <td>In what manner has Republican backing of 'stat...</td>\n",
       "      <td>1</td>\n",
       "    </tr>\n",
       "  </tbody>\n",
       "</table>\n",
       "</div>"
      ],
      "text/plain": [
       "                      qid                                      question_text  \\\n",
       "22   0000e91571b60c2fb487  Has the United States become the largest dicta...   \n",
       "30   00013ceca3f624b09f42  Which babies are more sweeter to their parents...   \n",
       "110  0004a7fcb2bf73076489  If blacks support school choice and mandatory ...   \n",
       "114  00052793eaa287aff1e1  I am gay boy and I love my cousin (boy). He is...   \n",
       "115  000537213b01fd77b58a               Which races have the smallest penis?   \n",
       "119  00056d45a1ce63856fc6                  Why do females find penises ugly?   \n",
       "127  0005de07b07a17046e27  How do I marry an American woman for a Green C...   \n",
       "144  00068875d7c82a5bcf88  Why do Europeans say they're the superior race...   \n",
       "156  0006ffd99a6599ff35b3  Did Julius Caesar bring a tyrannosaurus rex on...   \n",
       "167  00075f7061837807c69f  In what manner has Republican backing of 'stat...   \n",
       "\n",
       "     target  \n",
       "22        1  \n",
       "30        1  \n",
       "110       1  \n",
       "114       1  \n",
       "115       1  \n",
       "119       1  \n",
       "127       1  \n",
       "144       1  \n",
       "156       1  \n",
       "167       1  "
      ]
     },
     "execution_count": 6,
     "metadata": {},
     "output_type": "execute_result"
    }
   ],
   "source": [
    "## EDA\n",
    "## 1. Size of data - train and test Count\n",
    "print(\"Train Data: \",str(len(train)))\n",
    "print(\"Test Data: \",str(len(test)) )\n",
    "\n",
    "## 2. Classes distributions in train and test\n",
    "print(\"Train Data Positive Class: \",str(len(train[(train.target == 1)])))\n",
    "print(\"Train Data Negative Class: \",str(len(train[(train.target == 0)])))\n",
    "print(\"% Split +ve class\",str(len(train[(train.target == 1)])/len(train) *100)) ## Unbalanced class\n",
    "print(\"\\n\")\n",
    "## 3. Positive and Negative sample\n",
    "print(train[(train.target == 0)].head(10))\n",
    "train[(train.target == 1)].head(10)\n"
   ]
  },
  {
   "cell_type": "code",
   "execution_count": 7,
   "metadata": {},
   "outputs": [],
   "source": [
    "## 4. Top bi-gram and tri-gram in positive and negative classes\n"
   ]
  },
  {
   "cell_type": "code",
   "execution_count": 7,
   "metadata": {},
   "outputs": [],
   "source": [
    "## Train and Test split\n",
    "from sklearn.model_selection import train_test_split\n",
    "split_train , split_test = train_test_split(train, test_size = 0.3)"
   ]
  },
  {
   "cell_type": "code",
   "execution_count": null,
   "metadata": {},
   "outputs": [],
   "source": []
  },
  {
   "cell_type": "code",
   "execution_count": 18,
   "metadata": {},
   "outputs": [
    {
     "name": "stdout",
     "output_type": "stream",
     "text": [
      "Found 209967 unique words\n"
     ]
    }
   ],
   "source": [
    "## Pre Processing\n",
    "all_sentence = pd.concat([train[\"question_text\"], test[\"question_text\"]])\n",
    "tokenizer = Tokenizer(filters='!\"#$%&()*+,-./:;<=>?@[\\]^_`{|}~ \\'')\n",
    "tokenizer.fit_on_texts(all_sentence)\n",
    "word_dict = tokenizer.word_index\n",
    "print(\"Found %s unique words\" % len(word_dict))\n",
    "\n",
    "## Get index to word mapping after tokenization\n",
    "word_index={}\n",
    "for wrd,indx in word_dict.items():\n",
    "    word_index[indx] = wrd\n",
    "    "
   ]
  },
  {
   "cell_type": "code",
   "execution_count": 19,
   "metadata": {},
   "outputs": [],
   "source": [
    "def preProcessing(text):\n",
    "    sequences = tokenizer.texts_to_sequences(text)\n",
    "    data = pad_sequences(sequences, padding = \"post\", maxlen=100)\n",
    "    return (sequences,data[0])\n"
   ]
  },
  {
   "cell_type": "code",
   "execution_count": 20,
   "metadata": {},
   "outputs": [
    {
     "name": "stderr",
     "output_type": "stream",
     "text": [
      "/Users/meghana.negi/.local/share/virtualenvs/Quora-Insincere-Questions-Classification-K-VOuQS9ZU/lib/python3.7/site-packages/ipykernel_launcher.py:2: DeprecationWarning: Call to deprecated `wv` (Attribute will be removed in 4.0.0, use self instead).\n",
      "  \n"
     ]
    }
   ],
   "source": [
    "embedding = google_vec\n",
    "embedding_word_vectors = embedding.wv\n",
    "\n",
    "## For zero padding\n",
    "dummy_word =  \"__TEMP__\"\n",
    "word_index[0] = dummy_word\n",
    "\n",
    "## Get word vectors for sentences\n",
    "def getWordVectors(sentence):\n",
    "    sentence_embd = []\n",
    "    for wrd_indx in sentence:\n",
    "        word = word_index.get(wrd_indx)\n",
    "        if word ==dummy_word:\n",
    "            break\n",
    "        elif word in embedding_word_vectors:\n",
    "            sentence_embd.append(embedding.wv[word])\n",
    "        else:\n",
    "            continue\n",
    "            #print(\"%s word does not exists\" % word)  ## For Non existing words : skip word and add padding in the end\n",
    "    \n",
    "    for i in range(len(sentence_embd),100):\n",
    "        tmp =[0]*300\n",
    "        sentence_embd.append(tmp)\n",
    "    return np.array(sentence_embd)\n",
    " \n",
    "\n",
    "## For each sentence\n",
    "# sentence_indx, data_indx = preProcessing([\"hello world\"])\n",
    "# rt = getWordVectors(data_indx)\n",
    "# print(len(rt))\n",
    "# #print(rt)\n"
   ]
  },
  {
   "cell_type": "code",
   "execution_count": null,
   "metadata": {},
   "outputs": [],
   "source": []
  },
  {
   "cell_type": "code",
   "execution_count": 21,
   "metadata": {},
   "outputs": [],
   "source": [
    "## Generate batch data\n",
    "batch_zise = 128\n",
    "import math\n",
    "import numpy as np\n",
    "def batch_gen(data, text_column, label_column):\n",
    "    n_batches = math.ceil(len(data)/batch_zise)\n",
    "    while True:\n",
    "        data = data.sample(frac = 1.0) ## resuffle\n",
    "        for i in range(n_batches):\n",
    "            sample_data = data[128*i:128*(i+1)]\n",
    "            sample_data[\"text_column_vec\"] = sample_data[text_column].apply(lambda x: getWordVectors(preProcessing([x])[1]))\n",
    "            wrd_vec  = np.array([sample_data.text_column_vec])\n",
    "            lable_indx = np.array(sample_data[label_column])\n",
    "            yield wrd_vec[0,:,:,:],lable_indx\n",
    "            \n",
    "#y = batch_gen(split_test[:20],'question_text','target')\n"
   ]
  },
  {
   "cell_type": "code",
   "execution_count": 22,
   "metadata": {},
   "outputs": [],
   "source": [
    "## Model\n",
    "model = Sequential()\n",
    "model.add(Bidirectional(LSTM(64, return_sequences = True), input_shape = (100,300)))\n",
    "model.add(Bidirectional(LSTM(64)))\n",
    "model.add(Dense(1))\n",
    "model.add(Activation('sigmoid'))\n",
    "model.compile(loss = \"binary_crossentropy\", optimizer = \"adam\", metrics = [\"accuracy\"])\n"
   ]
  },
  {
   "cell_type": "code",
   "execution_count": null,
   "metadata": {},
   "outputs": [
    {
     "name": "stdout",
     "output_type": "stream",
     "text": [
      "Epoch 1/10\n"
     ]
    },
    {
     "name": "stderr",
     "output_type": "stream",
     "text": [
      "/Users/meghana.negi/.local/share/virtualenvs/Quora-Insincere-Questions-Classification-K-VOuQS9ZU/lib/python3.7/site-packages/ipykernel_launcher.py:17: DeprecationWarning: Call to deprecated `wv` (Attribute will be removed in 4.0.0, use self instead).\n",
      "/Users/meghana.negi/.local/share/virtualenvs/Quora-Insincere-Questions-Classification-K-VOuQS9ZU/lib/python3.7/site-packages/ipykernel_launcher.py:11: SettingWithCopyWarning: \n",
      "A value is trying to be set on a copy of a slice from a DataFrame.\n",
      "Try using .loc[row_indexer,col_indexer] = value instead\n",
      "\n",
      "See the caveats in the documentation: http://pandas.pydata.org/pandas-docs/stable/indexing.html#indexing-view-versus-copy\n",
      "  # This is added back by InteractiveShellApp.init_path()\n"
     ]
    },
    {
     "name": "stdout",
     "output_type": "stream",
     "text": [
      "100/100 [==============================] - 157s 2s/step - loss: 0.1358 - acc: 0.9495\n",
      "Epoch 2/10\n",
      "100/100 [==============================] - 148s 1s/step - loss: 0.1282 - acc: 0.9508\n",
      "Epoch 3/10\n",
      "100/100 [==============================] - 693s 7s/step - loss: 0.1289 - acc: 0.9507\n",
      "Epoch 4/10\n",
      "100/100 [==============================] - 12185s 122s/step - loss: 0.1321 - acc: 0.9489\n",
      "Epoch 5/10\n",
      " 68/100 [===================>..........] - ETA: 45s - loss: 0.1281 - acc: 0.9508"
     ]
    }
   ],
   "source": [
    "gen_data =  batch_gen(split_train,'question_text','target')\n",
    "model.fit_generator(gen_data, epochs=10, steps_per_epoch=100)"
   ]
  },
  {
   "cell_type": "code",
   "execution_count": 252,
   "metadata": {},
   "outputs": [
    {
     "name": "stderr",
     "output_type": "stream",
     "text": [
      "/Users/meghana.negi/.local/share/virtualenvs/Quora-Insincere-Questions-Classification-K-VOuQS9ZU/lib/python3.7/site-packages/ipykernel_launcher.py:17: DeprecationWarning: Call to deprecated `wv` (Attribute will be removed in 4.0.0, use self instead).\n",
      "/Users/meghana.negi/.local/share/virtualenvs/Quora-Insincere-Questions-Classification-K-VOuQS9ZU/lib/python3.7/site-packages/ipykernel_launcher.py:11: SettingWithCopyWarning: \n",
      "A value is trying to be set on a copy of a slice from a DataFrame.\n",
      "Try using .loc[row_indexer,col_indexer] = value instead\n",
      "\n",
      "See the caveats in the documentation: http://pandas.pydata.org/pandas-docs/stable/indexing.html#indexing-view-versus-copy\n",
      "  # This is added back by InteractiveShellApp.init_path()\n"
     ]
    }
   ],
   "source": [
    "gen_data =  batch_gen(split_test,'question_text','target')\n",
    "gx,y,d = next(gen_data)"
   ]
  },
  {
   "cell_type": "code",
   "execution_count": 16,
   "metadata": {},
   "outputs": [],
   "source": [
    "## Test RNN \n"
   ]
  },
  {
   "cell_type": "code",
   "execution_count": 17,
   "metadata": {},
   "outputs": [],
   "source": [
    "## Train 2D CNN"
   ]
  },
  {
   "cell_type": "code",
   "execution_count": null,
   "metadata": {},
   "outputs": [],
   "source": [
    "## Test Train"
   ]
  },
  {
   "cell_type": "code",
   "execution_count": null,
   "metadata": {},
   "outputs": [],
   "source": [
    "## F1 Score"
   ]
  },
  {
   "cell_type": "code",
   "execution_count": null,
   "metadata": {},
   "outputs": [],
   "source": [
    "## Check F1 of each model"
   ]
  }
 ],
 "metadata": {
  "kernelspec": {
   "display_name": "Python 3",
   "language": "python",
   "name": "python3"
  },
  "language_info": {
   "codemirror_mode": {
    "name": "ipython",
    "version": 3
   },
   "file_extension": ".py",
   "mimetype": "text/x-python",
   "name": "python",
   "nbconvert_exporter": "python",
   "pygments_lexer": "ipython3",
   "version": "3.7.2"
  }
 },
 "nbformat": 4,
 "nbformat_minor": 2
}
